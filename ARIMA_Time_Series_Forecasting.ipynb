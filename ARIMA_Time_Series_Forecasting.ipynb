{
 "cells": [
  {
   "cell_type": "markdown",
   "metadata": {},
   "source": [
    "### Forecasting future value of Apple Stock Using Time Series Analysis - ARIMA"
   ]
  },
  {
   "cell_type": "code",
   "execution_count": 23,
   "metadata": {},
   "outputs": [],
   "source": [
    "import pandas as pd\n",
    "import numpy as np\n",
    "import matplotlib.pyplot as plt\n",
    "from pandas.tools.plotting import autocorrelation_plot\n",
    "from statsmodels.graphics.tsaplots import plot_pacf\n",
    "from statsmodels.tsa.arima_model import ARIMA, ARMAResults\n",
    "import datetime\n",
    "import sys\n",
    "import seaborn as sns\n",
    "import statsmodels\n",
    "import statsmodels.stats.diagnostic as diag\n",
    "from statsmodels.tsa.stattools import adfuller\n",
    "from arch import arch_model\n",
    "from scipy.stats.mstats import normaltest\n",
    "from matplotlib.pyplot import acorr\n",
    "%matplotlib inline\n",
    "import quandl \n",
    "from pandas.core import datetools"
   ]
  },
  {
   "cell_type": "markdown",
   "metadata": {},
   "source": [
    "Lets collect data of Apple stock for 8 years to forecast future value of the stock using time series analysis."
   ]
  },
  {
   "cell_type": "code",
   "execution_count": 34,
   "metadata": {},
   "outputs": [
    {
     "data": {
      "text/html": [
       "<div>\n",
       "<style scoped>\n",
       "    .dataframe tbody tr th:only-of-type {\n",
       "        vertical-align: middle;\n",
       "    }\n",
       "\n",
       "    .dataframe tbody tr th {\n",
       "        vertical-align: top;\n",
       "    }\n",
       "\n",
       "    .dataframe thead th {\n",
       "        text-align: right;\n",
       "    }\n",
       "</style>\n",
       "<table border=\"1\" class=\"dataframe\">\n",
       "  <thead>\n",
       "    <tr style=\"text-align: right;\">\n",
       "      <th></th>\n",
       "      <th>ticker</th>\n",
       "      <th>date</th>\n",
       "      <th>open</th>\n",
       "      <th>high</th>\n",
       "      <th>low</th>\n",
       "      <th>close</th>\n",
       "      <th>volume</th>\n",
       "      <th>ex-dividend</th>\n",
       "      <th>split_ratio</th>\n",
       "      <th>adj_open</th>\n",
       "      <th>adj_high</th>\n",
       "      <th>adj_low</th>\n",
       "      <th>adj_close</th>\n",
       "      <th>adj_volume</th>\n",
       "    </tr>\n",
       "    <tr>\n",
       "      <th>None</th>\n",
       "      <th></th>\n",
       "      <th></th>\n",
       "      <th></th>\n",
       "      <th></th>\n",
       "      <th></th>\n",
       "      <th></th>\n",
       "      <th></th>\n",
       "      <th></th>\n",
       "      <th></th>\n",
       "      <th></th>\n",
       "      <th></th>\n",
       "      <th></th>\n",
       "      <th></th>\n",
       "      <th></th>\n",
       "    </tr>\n",
       "  </thead>\n",
       "  <tbody>\n",
       "    <tr>\n",
       "      <th>0</th>\n",
       "      <td>AAPL</td>\n",
       "      <td>1980-12-12</td>\n",
       "      <td>28.75</td>\n",
       "      <td>28.87</td>\n",
       "      <td>28.75</td>\n",
       "      <td>28.75</td>\n",
       "      <td>2093900.0</td>\n",
       "      <td>0.0</td>\n",
       "      <td>1.0</td>\n",
       "      <td>0.422706</td>\n",
       "      <td>0.424470</td>\n",
       "      <td>0.422706</td>\n",
       "      <td>0.422706</td>\n",
       "      <td>117258400.0</td>\n",
       "    </tr>\n",
       "    <tr>\n",
       "      <th>1</th>\n",
       "      <td>AAPL</td>\n",
       "      <td>1980-12-15</td>\n",
       "      <td>27.38</td>\n",
       "      <td>27.38</td>\n",
       "      <td>27.25</td>\n",
       "      <td>27.25</td>\n",
       "      <td>785200.0</td>\n",
       "      <td>0.0</td>\n",
       "      <td>1.0</td>\n",
       "      <td>0.402563</td>\n",
       "      <td>0.402563</td>\n",
       "      <td>0.400652</td>\n",
       "      <td>0.400652</td>\n",
       "      <td>43971200.0</td>\n",
       "    </tr>\n",
       "    <tr>\n",
       "      <th>2</th>\n",
       "      <td>AAPL</td>\n",
       "      <td>1980-12-16</td>\n",
       "      <td>25.37</td>\n",
       "      <td>25.37</td>\n",
       "      <td>25.25</td>\n",
       "      <td>25.25</td>\n",
       "      <td>472000.0</td>\n",
       "      <td>0.0</td>\n",
       "      <td>1.0</td>\n",
       "      <td>0.373010</td>\n",
       "      <td>0.373010</td>\n",
       "      <td>0.371246</td>\n",
       "      <td>0.371246</td>\n",
       "      <td>26432000.0</td>\n",
       "    </tr>\n",
       "    <tr>\n",
       "      <th>3</th>\n",
       "      <td>AAPL</td>\n",
       "      <td>1980-12-17</td>\n",
       "      <td>25.87</td>\n",
       "      <td>26.00</td>\n",
       "      <td>25.87</td>\n",
       "      <td>25.87</td>\n",
       "      <td>385900.0</td>\n",
       "      <td>0.0</td>\n",
       "      <td>1.0</td>\n",
       "      <td>0.380362</td>\n",
       "      <td>0.382273</td>\n",
       "      <td>0.380362</td>\n",
       "      <td>0.380362</td>\n",
       "      <td>21610400.0</td>\n",
       "    </tr>\n",
       "    <tr>\n",
       "      <th>4</th>\n",
       "      <td>AAPL</td>\n",
       "      <td>1980-12-18</td>\n",
       "      <td>26.63</td>\n",
       "      <td>26.75</td>\n",
       "      <td>26.63</td>\n",
       "      <td>26.63</td>\n",
       "      <td>327900.0</td>\n",
       "      <td>0.0</td>\n",
       "      <td>1.0</td>\n",
       "      <td>0.391536</td>\n",
       "      <td>0.393300</td>\n",
       "      <td>0.391536</td>\n",
       "      <td>0.391536</td>\n",
       "      <td>18362400.0</td>\n",
       "    </tr>\n",
       "  </tbody>\n",
       "</table>\n",
       "</div>"
      ],
      "text/plain": [
       "     ticker       date   open   high    low  close     volume  ex-dividend  \\\n",
       "None                                                                         \n",
       "0      AAPL 1980-12-12  28.75  28.87  28.75  28.75  2093900.0          0.0   \n",
       "1      AAPL 1980-12-15  27.38  27.38  27.25  27.25   785200.0          0.0   \n",
       "2      AAPL 1980-12-16  25.37  25.37  25.25  25.25   472000.0          0.0   \n",
       "3      AAPL 1980-12-17  25.87  26.00  25.87  25.87   385900.0          0.0   \n",
       "4      AAPL 1980-12-18  26.63  26.75  26.63  26.63   327900.0          0.0   \n",
       "\n",
       "      split_ratio  adj_open  adj_high   adj_low  adj_close   adj_volume  \n",
       "None                                                                     \n",
       "0             1.0  0.422706  0.424470  0.422706   0.422706  117258400.0  \n",
       "1             1.0  0.402563  0.402563  0.400652   0.400652   43971200.0  \n",
       "2             1.0  0.373010  0.373010  0.371246   0.371246   26432000.0  \n",
       "3             1.0  0.380362  0.382273  0.380362   0.380362   21610400.0  \n",
       "4             1.0  0.391536  0.393300  0.391536   0.391536   18362400.0  "
      ]
     },
     "execution_count": 34,
     "metadata": {},
     "output_type": "execute_result"
    }
   ],
   "source": [
    "quandl.ApiConfig.api_key = 'QPMeL2L_kSvf2WMw9Esx'\n",
    "APPLE = quandl.get_table('WIKI/PRICES', ticker='AAPL')\n",
    "APPLE.to_csv('APPLE.csv')\n",
    "lastAPPLE = APPLE[-1:]\n",
    "APPLE = APPLE[:-1]\n",
    "APPLE.head()"
   ]
  },
  {
   "cell_type": "code",
   "execution_count": 37,
   "metadata": {},
   "outputs": [],
   "source": [
    "# Lets take Log of the daily the closing value to ensures that level induced volatility does not interfere with the stationarity of series.\n",
    "\n",
    "\n",
    "APPLE['date']= APPLE.index\n",
    "APPLE['APPLE']= APPLE.close\n",
    "APPLE['logAPPLE']= np.log(APPLE['APPLE'])\n",
    "APPLE['diflogAPPLE'] = APPLE['logAPPLE'] - APPLE['logAPPLE'].shift(periods=-1)\n",
    "APPLE = APPLE.dropna()"
   ]
  },
  {
   "cell_type": "code",
   "execution_count": 27,
   "metadata": {},
   "outputs": [
    {
     "data": {
      "text/plain": [
       "Text(0.5,0,'Month')"
      ]
     },
     "execution_count": 27,
     "metadata": {},
     "output_type": "execute_result"
    },
    {
     "data": {
      "image/png": "[encoded data removed]",
      "text/plain": [
       "<matplotlib.figure.Figure at 0x115b26358>"
      ]
     },
     "metadata": {},
     "output_type": "display_data"
    }
   ],
   "source": [
    "# As we are interested in the day to day change of the stock prices, we take the difference of the closing values. This differencing is another way to get the time series to be stationary.\n",
    "\n",
    "fig, ax = plt.subplots(figsize=(12,8))\n",
    "\n",
    "plt.subplot(2, 1, 1)\n",
    "plt.plot(APPLE.date, APPLE.APPLE, label = \"Log of APPLE Closing Price\")\n",
    "plt.title(\"Level APPLE Closing Price\", size = 20,)\n",
    "plt.ylabel(\"Price in Dollars\", size = 10)\n",
    "\n",
    "plt.subplot(2, 1, 2)\n",
    "plt.plot(APPLE.date, APPLE.diflogAPPLE, label = '1st Diffrence of Log of APPLE', color = 'g')\n",
    "plt.title(\"Difference between Log of APPLE Closing Price\", size = 10,)\n",
    "plt.ylabel(\"Difference between APPLE Closing Price\", size = 10)\n",
    "plt.xlabel('Month', size = 10)"
   ]
  },
  {
   "cell_type": "markdown",
   "metadata": {},
   "source": [
    "For reliable forecasting, we need stationary series. Therefore performing Dickey-Fuller test helps us to detect whether the series is stationary or not. Smaller the p-value, more stationary will be the series."
   ]
  },
  {
   "cell_type": "code",
   "execution_count": 28,
   "metadata": {},
   "outputs": [
    {
     "name": "stdout",
     "output_type": "stream",
     "text": [
      "Results of Dickey-Fuller Test:\n",
      "Test Statistic                  -48.466910\n",
      "p-value                           0.000000\n",
      "# Lags Used                       3.000000\n",
      "Number of Observations Used    9394.000000\n",
      "Critical Value (1%)              -3.431046\n",
      "Critical Value (5%)              -2.861848\n",
      "Critical Value (10%)             -2.566934\n",
      "dtype: float64\n"
     ]
    }
   ],
   "source": [
    "print ('Results of Dickey-Fuller Test:')\n",
    "dftest = adfuller(APPLE.diflogAPPLE, autolag='AIC')\n",
    "dfoutput = pd.Series(dftest[0:4], index=['Test Statistic','p-value','# Lags Used','Number of Observations Used'])\n",
    "for key,value in dftest[4].items():\n",
    "    dfoutput['Critical Value (%s)'%key] = value\n",
    "print (dfoutput)"
   ]
  },
  {
   "cell_type": "markdown",
   "metadata": {},
   "source": [
    "Lets implement time series analysis model: ARIMA (Auto-Regressive-Integrated-Moving-Average).\n",
    "\n",
    "The ARIMA forecasting equation for a stationary time series is a linear (i.e., regression-type) equation in which the predictors consist of lags of the dependent variable and/or lags of the forecast errors, i.e -\n",
    "\n",
    "Predicted value of Y = a constant and/or a weighted sum of one or more recent values of Y and/or a weighted sum of one or more recent values of the errors."
   ]
  },
  {
   "cell_type": "code",
   "execution_count": 39,
   "metadata": {},
   "outputs": [
    {
     "name": "stdout",
     "output_type": "stream",
     "text": [
      "(0, 1, 0) -35099.886866869485\n",
      "(0, 1, 1) -35101.230969210694\n",
      "(0, 1, 2) -35101.64383210399\n"
     ]
    },
    {
     "name": "stderr",
     "output_type": "stream",
     "text": [
      "/Users/ishanverma/anaconda3/lib/python3.6/site-packages/statsmodels/tsa/kalmanf/kalmanfilter.py:646: FutureWarning: Conversion of the second argument of issubdtype from `float` to `np.floating` is deprecated. In future, it will be treated as `np.float64 == np.dtype(float).type`.\n",
      "  if issubdtype(paramsdtype, float):\n",
      "/Users/ishanverma/anaconda3/lib/python3.6/site-packages/statsmodels/tsa/kalmanf/kalmanfilter.py:650: FutureWarning: Conversion of the second argument of issubdtype from `complex` to `np.complexfloating` is deprecated. In future, it will be treated as `np.complex128 == np.dtype(complex).type`.\n",
      "  elif issubdtype(paramsdtype, complex):\n"
     ]
    },
    {
     "name": "stdout",
     "output_type": "stream",
     "text": [
      "(1, 1, 0) -35101.11846559505\n",
      "(1, 1, 1) -35099.9457710158\n",
      "(2, 1, 0) -35101.95138811556\n",
      "(2, 1, 1) -35100.949059648454\n",
      "Best model is : (2, 1, 0)\n"
     ]
    }
   ],
   "source": [
    "ararray = (APPLE.logAPPLE.dropna().as_matrix())\n",
    "p=0\n",
    "q=0\n",
    "d=1\n",
    "pdq=[]\n",
    "aic=[]\n",
    "\n",
    "for p in range(3):\n",
    "    for q in range(3):\n",
    "        try:\n",
    "            model = ARIMA(ararray, (p,d,q)).fit()\n",
    "            x = model.aic\n",
    "            x1 = (p,d,q)\n",
    "            print (x1, x)\n",
    "            aic.append(x)\n",
    "            pdq.append(x1)\n",
    "        except:\n",
    "            pass\n",
    "            \n",
    "keys = pdq\n",
    "values = aic\n",
    "d = dict(zip(keys, values))\n",
    "minaic=min(d, key=d.get)\n",
    "\n",
    "for i in range(3):\n",
    "    p=minaic[0]\n",
    "    d=minaic[1]\n",
    "    q=minaic[2]\n",
    "print (\"Best model is :\", (p,d,q))\n",
    "ARIMIAmod = ARIMA(ararray, (p,d,q)).fit()"
   ]
  },
  {
   "cell_type": "code",
   "execution_count": 38,
   "metadata": {},
   "outputs": [
    {
     "name": "stdout",
     "output_type": "stream",
     "text": [
      "1 Steps ahead forecast value is: [164.93869506]\n",
      "1 Steps Ahead 95 percent CI is: [153.29198995 177.4702849 ]\n",
      "March 27, 2018 Close (most recent): None\n",
      "9398    172.77\n",
      "Name: close, dtype: float64 \n"
     ]
    }
   ],
   "source": [
    "numofsteps = 1\n",
    "stepahead = ARIMIAmod.forecast(numofsteps)[0]\n",
    "ferrors = ARIMIAmod.forecast(numofsteps)[2]\n",
    "ferrors\n",
    "print ('%s Steps ahead forecast value is:' % numofsteps, np.exp(stepahead))\n",
    "print ('%s Steps Ahead 95 percent CI is:' % numofsteps, np.exp(ferrors[0]))\n",
    "print ('March 27, 2018 Close (most recent): %s ' % lastAPPLE.close)"
   ]
  },
  {
   "cell_type": "code",
   "execution_count": null,
   "metadata": {},
   "outputs": [],
   "source": []
  }
 ],
 "metadata": {
  "kernelspec": {
   "display_name": "Python 3",
   "language": "python",
   "name": "python3"
  },
  "language_info": {
   "codemirror_mode": {
    "name": "ipython",
    "version": 3
   },
   "file_extension": ".py",
   "mimetype": "text/x-python",
   "name": "python",
   "nbconvert_exporter": "python",
   "pygments_lexer": "ipython3",
   "version": "3.6.4"
  }
 },
 "nbformat": 4,
 "nbformat_minor": 2
}
